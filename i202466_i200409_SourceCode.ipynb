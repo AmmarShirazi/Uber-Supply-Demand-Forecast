{
 "cells": [
  {
   "cell_type": "code",
   "execution_count": 1,
   "metadata": {},
   "outputs": [],
   "source": [
    "import pandas as pd\n",
    "import os"
   ]
  },
  {
   "cell_type": "code",
   "execution_count": 2,
   "metadata": {},
   "outputs": [],
   "source": [
    "def read_space_separated_csv(file_path, column_names, delim = '\\t'):\n",
    "    return pd.read_csv(file_path, sep=delim, names=column_names)"
   ]
  },
  {
   "cell_type": "code",
   "execution_count": 3,
   "metadata": {},
   "outputs": [],
   "source": [
    "def process_poi_data(poi_data_str):\n",
    "    poi_data_dict = {}\n",
    "    for pair in poi_data_str.split('\\t'):\n",
    "        key, value = pair.split(':')\n",
    "        poi_data_dict[key] = int(value)\n",
    "    return poi_data_dict\n"
   ]
  },
  {
   "cell_type": "code",
   "execution_count": 4,
   "metadata": {},
   "outputs": [],
   "source": [
    "def read_poi_data(file_path):\n",
    "    with open(file_path, 'r') as file:\n",
    "        lines = file.read().split('\\n')\n",
    "\n",
    "    data = []\n",
    "\n",
    "    for line in lines:\n",
    "        if line:\n",
    "            region_hash, poi_data_str = line.split('\\t', 1)\n",
    "            poi_data_dict = process_poi_data(poi_data_str)\n",
    "            data.append({'region_hash': region_hash, 'poi_data': poi_data_dict})\n",
    "\n",
    "    column_names = ['region_hash', 'poi_data']\n",
    "    poi_data_df = pd.DataFrame(data, columns=column_names)\n",
    "    return poi_data_df\n"
   ]
  },
  {
   "cell_type": "code",
   "execution_count": 5,
   "metadata": {},
   "outputs": [],
   "source": [
    "file_path = 'training_data/poi_data/poi_data'\n",
    "poi_data = read_poi_data(file_path)"
   ]
  },
  {
   "cell_type": "code",
   "execution_count": 6,
   "metadata": {},
   "outputs": [],
   "source": [
    "# Read the cluster map data\n",
    "cluster_map_columns = ['region_hash', 'region_id']\n",
    "cluster_map_file_path = 'training_data/cluster_map/cluster_map'\n",
    "cluster_map = read_space_separated_csv(cluster_map_file_path, cluster_map_columns)"
   ]
  },
  {
   "cell_type": "code",
   "execution_count": 7,
   "metadata": {},
   "outputs": [],
   "source": [
    "# Read the order data files\n",
    "order_data_columns = ['order_id', 'driver_id', 'passenger_id', 'start_region_hash', 'dest_region_hash', 'Price', 'Time']\n",
    "order_data_folder_path = 'training_data/order_data/'\n",
    "order_data_files = [f for f in os.listdir(order_data_folder_path) if os.path.isfile(os.path.join(order_data_folder_path, f)) and not f.startswith('._')]\n",
    "order_data_list = [read_space_separated_csv(os.path.join(order_data_folder_path, file), order_data_columns) for file in order_data_files]\n",
    "order_data = pd.concat(order_data_list)"
   ]
  },
  {
   "cell_type": "code",
   "execution_count": 8,
   "metadata": {},
   "outputs": [],
   "source": [
    "# Read the weather data files\n",
    "weather_data_columns = ['Time', 'Weather', 'temperature', 'PM2.5']\n",
    "weather_data_folder_path = 'training_data/weather_data/'\n",
    "weather_data_files = [f for f in os.listdir(weather_data_folder_path) if os.path.isfile(os.path.join(weather_data_folder_path, f)) and not f.startswith('._')]\n",
    "weather_data_list = [read_space_separated_csv(os.path.join(weather_data_folder_path, file), weather_data_columns) for file in weather_data_files]\n",
    "weather_data = pd.concat(weather_data_list)"
   ]
  },
  {
   "cell_type": "code",
   "execution_count": 9,
   "metadata": {},
   "outputs": [
    {
     "name": "stdout",
     "output_type": "stream",
     "text": [
      "                        region_hash  \\\n",
      "0  74c1c25f4b283fa74a5514307b0d0278   \n",
      "\n",
      "                                            poi_data  total_facilities  \n",
      "0  {'1#11': 2241, '1#10': 249, '24': 1245, '25': ...            878555  \n"
     ]
    }
   ],
   "source": [
    "# print(weather_data.head(1))\n",
    "# print(order_data.head(1))\n",
    "# print(cluster_map.head(2))\n",
    "\n",
    "def count_facilities(poi_data_dict):\n",
    "    return sum(poi_data_dict.values())\n",
    "\n",
    "poi_data['total_facilities'] = poi_data['poi_data'].apply(count_facilities)\n",
    "print(poi_data.head(1))\n"
   ]
  },
  {
   "cell_type": "code",
   "execution_count": 10,
   "metadata": {},
   "outputs": [],
   "source": [
    "from sklearn.model_selection import train_test_split\n",
    "from sklearn.metrics import mean_squared_error, r2_score, mean_absolute_error\n",
    "from sklearn.preprocessing import LabelEncoder\n",
    "import xgboost as xgb\n",
    "from sklearn.model_selection import RandomizedSearchCV"
   ]
  },
  {
   "cell_type": "code",
   "execution_count": 11,
   "metadata": {},
   "outputs": [],
   "source": [
    "# Convert the 'Time' column to datetime format\n",
    "order_data['Time'] = pd.to_datetime(order_data['Time'])\n",
    "weather_data['Time'] = pd.to_datetime(weather_data['Time'])\n",
    "\n",
    "order_data['Time'] = order_data['Time'].dt.round('10min')\n",
    "weather_data['Time'] = weather_data['Time'].dt.round('10min')"
   ]
  },
  {
   "cell_type": "code",
   "execution_count": 12,
   "metadata": {},
   "outputs": [],
   "source": [
    "# Sort the datasets by time\n",
    "order_data = order_data.sort_values('Time')\n",
    "weather_data = weather_data.sort_values('Time')"
   ]
  },
  {
   "cell_type": "code",
   "execution_count": 13,
   "metadata": {},
   "outputs": [],
   "source": [
    "# Merge the cluster_map into the order_data\n",
    "order_data = order_data.merge(cluster_map, left_on='start_region_hash', right_on='region_hash', how='left')\n",
    "order_data = order_data.rename(columns={'region_id': 'start_region_id'}).drop('region_hash', axis=1)\n",
    "\n",
    "order_data = order_data.merge(cluster_map, left_on='dest_region_hash', right_on='region_hash', how='left')\n",
    "order_data = order_data.rename(columns={'region_id': 'dest_region_id'}).drop('region_hash', axis=1)\n",
    "order_data = order_data.merge(weather_data, on='Time', how='left')\n",
    "order_data = order_data.merge(poi_data, left_on='start_region_hash', right_on='region_hash', how='left')"
   ]
  },
  {
   "cell_type": "code",
   "execution_count": 14,
   "metadata": {},
   "outputs": [],
   "source": [
    "# Calculate the demand and supply columns\n",
    "order_data['demand'] = 1\n",
    "order_data['supply'] = order_data['driver_id'].notnull().astype(int)"
   ]
  },
  {
   "cell_type": "code",
   "execution_count": 15,
   "metadata": {},
   "outputs": [
    {
     "name": "stdout",
     "output_type": "stream",
     "text": [
      "        Time  start_region_id  demand  supply  Weather  temperature  PM2.5  \\\n",
      "0 2016-01-01                1      64      60      1.0          4.0  177.0   \n",
      "1 2016-01-01                2       1       1      1.0          4.0  177.0   \n",
      "2 2016-01-01                3       2       1      1.0          4.0  177.0   \n",
      "\n",
      "   total_facilities  gap  \n",
      "0          41816064    4  \n",
      "1            343537    0  \n",
      "2             62250    1  \n"
     ]
    }
   ],
   "source": [
    "# Aggregate data by time slot and region\n",
    "grouped_data = order_data.groupby([pd.Grouper(key='Time', freq='10min'), 'start_region_id']).agg({\n",
    "    'demand': 'sum',\n",
    "    'supply': 'sum',\n",
    "    'Weather': 'mean',\n",
    "    'temperature': 'mean',\n",
    "    'PM2.5': 'mean',\n",
    "    'total_facilities': 'sum'\n",
    "}).reset_index()\n",
    "\n",
    "\n",
    "grouped_data['gap'] = grouped_data['demand'] - grouped_data['supply']\n",
    "\n",
    "print(grouped_data.head(3))"
   ]
  },
  {
   "cell_type": "code",
   "execution_count": 16,
   "metadata": {},
   "outputs": [],
   "source": [
    "# Prepare the features and target variable\n",
    "X = grouped_data.drop(['Time', 'gap', 'demand', 'supply'], axis=1)\n",
    "X = X[['start_region_id', 'Weather', 'temperature', 'PM2.5', 'total_facilities']]\n",
    "y = grouped_data['gap']"
   ]
  },
  {
   "cell_type": "code",
   "execution_count": 17,
   "metadata": {},
   "outputs": [],
   "source": [
    "# Encode the region id column\n",
    "train_df = X.copy()\n",
    "train_df['predicted_gap'] = grouped_data['gap']\n",
    "\n",
    "X['start_region_id'] = LabelEncoder().fit_transform(X['start_region_id'])"
   ]
  },
  {
   "cell_type": "code",
   "execution_count": 18,
   "metadata": {},
   "outputs": [],
   "source": [
    "# Split the data into training and testing datasets\n",
    "X_train, X_test, y_train, y_test = train_test_split(X, y, test_size=0.1, random_state=42)"
   ]
  },
  {
   "cell_type": "code",
   "execution_count": 19,
   "metadata": {},
   "outputs": [],
   "source": [
    "# Prepare the DMatrix for XGBoost\n",
    "dtrain = xgb.DMatrix(X_train, label=y_train)\n",
    "dtest = xgb.DMatrix(X_test, label=y_test)"
   ]
  },
  {
   "cell_type": "code",
   "execution_count": 20,
   "metadata": {},
   "outputs": [],
   "source": [
    "# Create a dictionary of hyperparameters to tune\n",
    "param_dist = {\n",
    "    'max_depth': [3, 4, 5, 6],\n",
    "    'n_estimators': [50, 100, 150, 200],\n",
    "    'learning_rate': [0.01, 0.05, 0.1, 0.2],\n",
    "    'subsample': [0.5, 0.8, 1.0],\n",
    "    'colsample_bytree': [0.5, 0.8, 1.0],\n",
    "}"
   ]
  },
  {
   "cell_type": "code",
   "execution_count": 21,
   "metadata": {},
   "outputs": [],
   "source": [
    "# Initialize the XGBoost Regressor\n",
    "xgb_reg = xgb.XGBRegressor(objective='reg:squarederror', random_state=42)"
   ]
  },
  {
   "cell_type": "code",
   "execution_count": 22,
   "metadata": {},
   "outputs": [],
   "source": [
    "# Initialize the RandomizedSearchCV with a 3-fold cross-validation\n",
    "random_search = RandomizedSearchCV(estimator=xgb_reg, param_distributions=param_dist, n_iter=20, scoring='neg_mean_squared_error', cv=3, verbose=1, n_jobs=-1, random_state=42)"
   ]
  },
  {
   "cell_type": "code",
   "execution_count": 23,
   "metadata": {},
   "outputs": [
    {
     "name": "stdout",
     "output_type": "stream",
     "text": [
      "Fitting 3 folds for each of 20 candidates, totalling 60 fits\n"
     ]
    },
    {
     "data": {
      "text/html": [
       "<style>#sk-container-id-1 {color: black;background-color: white;}#sk-container-id-1 pre{padding: 0;}#sk-container-id-1 div.sk-toggleable {background-color: white;}#sk-container-id-1 label.sk-toggleable__label {cursor: pointer;display: block;width: 100%;margin-bottom: 0;padding: 0.3em;box-sizing: border-box;text-align: center;}#sk-container-id-1 label.sk-toggleable__label-arrow:before {content: \"▸\";float: left;margin-right: 0.25em;color: #696969;}#sk-container-id-1 label.sk-toggleable__label-arrow:hover:before {color: black;}#sk-container-id-1 div.sk-estimator:hover label.sk-toggleable__label-arrow:before {color: black;}#sk-container-id-1 div.sk-toggleable__content {max-height: 0;max-width: 0;overflow: hidden;text-align: left;background-color: #f0f8ff;}#sk-container-id-1 div.sk-toggleable__content pre {margin: 0.2em;color: black;border-radius: 0.25em;background-color: #f0f8ff;}#sk-container-id-1 input.sk-toggleable__control:checked~div.sk-toggleable__content {max-height: 200px;max-width: 100%;overflow: auto;}#sk-container-id-1 input.sk-toggleable__control:checked~label.sk-toggleable__label-arrow:before {content: \"▾\";}#sk-container-id-1 div.sk-estimator input.sk-toggleable__control:checked~label.sk-toggleable__label {background-color: #d4ebff;}#sk-container-id-1 div.sk-label input.sk-toggleable__control:checked~label.sk-toggleable__label {background-color: #d4ebff;}#sk-container-id-1 input.sk-hidden--visually {border: 0;clip: rect(1px 1px 1px 1px);clip: rect(1px, 1px, 1px, 1px);height: 1px;margin: -1px;overflow: hidden;padding: 0;position: absolute;width: 1px;}#sk-container-id-1 div.sk-estimator {font-family: monospace;background-color: #f0f8ff;border: 1px dotted black;border-radius: 0.25em;box-sizing: border-box;margin-bottom: 0.5em;}#sk-container-id-1 div.sk-estimator:hover {background-color: #d4ebff;}#sk-container-id-1 div.sk-parallel-item::after {content: \"\";width: 100%;border-bottom: 1px solid gray;flex-grow: 1;}#sk-container-id-1 div.sk-label:hover label.sk-toggleable__label {background-color: #d4ebff;}#sk-container-id-1 div.sk-serial::before {content: \"\";position: absolute;border-left: 1px solid gray;box-sizing: border-box;top: 0;bottom: 0;left: 50%;z-index: 0;}#sk-container-id-1 div.sk-serial {display: flex;flex-direction: column;align-items: center;background-color: white;padding-right: 0.2em;padding-left: 0.2em;position: relative;}#sk-container-id-1 div.sk-item {position: relative;z-index: 1;}#sk-container-id-1 div.sk-parallel {display: flex;align-items: stretch;justify-content: center;background-color: white;position: relative;}#sk-container-id-1 div.sk-item::before, #sk-container-id-1 div.sk-parallel-item::before {content: \"\";position: absolute;border-left: 1px solid gray;box-sizing: border-box;top: 0;bottom: 0;left: 50%;z-index: -1;}#sk-container-id-1 div.sk-parallel-item {display: flex;flex-direction: column;z-index: 1;position: relative;background-color: white;}#sk-container-id-1 div.sk-parallel-item:first-child::after {align-self: flex-end;width: 50%;}#sk-container-id-1 div.sk-parallel-item:last-child::after {align-self: flex-start;width: 50%;}#sk-container-id-1 div.sk-parallel-item:only-child::after {width: 0;}#sk-container-id-1 div.sk-dashed-wrapped {border: 1px dashed gray;margin: 0 0.4em 0.5em 0.4em;box-sizing: border-box;padding-bottom: 0.4em;background-color: white;}#sk-container-id-1 div.sk-label label {font-family: monospace;font-weight: bold;display: inline-block;line-height: 1.2em;}#sk-container-id-1 div.sk-label-container {text-align: center;}#sk-container-id-1 div.sk-container {/* jupyter's `normalize.less` sets `[hidden] { display: none; }` but bootstrap.min.css set `[hidden] { display: none !important; }` so we also need the `!important` here to be able to override the default hidden behavior on the sphinx rendered scikit-learn.org. See: https://github.com/scikit-learn/scikit-learn/issues/21755 */display: inline-block !important;position: relative;}#sk-container-id-1 div.sk-text-repr-fallback {display: none;}</style><div id=\"sk-container-id-1\" class=\"sk-top-container\"><div class=\"sk-text-repr-fallback\"><pre>RandomizedSearchCV(cv=3,\n",
       "                   estimator=XGBRegressor(base_score=None, booster=None,\n",
       "                                          callbacks=None,\n",
       "                                          colsample_bylevel=None,\n",
       "                                          colsample_bynode=None,\n",
       "                                          colsample_bytree=None,\n",
       "                                          early_stopping_rounds=None,\n",
       "                                          enable_categorical=False,\n",
       "                                          eval_metric=None, feature_types=None,\n",
       "                                          gamma=None, gpu_id=None,\n",
       "                                          grow_policy=None,\n",
       "                                          importance_type=None,\n",
       "                                          interaction_constraints=None,\n",
       "                                          learning_rate=...\n",
       "                                          monotone_constraints=None,\n",
       "                                          n_estimators=100, n_jobs=None,\n",
       "                                          num_parallel_tree=None,\n",
       "                                          predictor=None, random_state=42, ...),\n",
       "                   n_iter=20, n_jobs=-1,\n",
       "                   param_distributions={&#x27;colsample_bytree&#x27;: [0.5, 0.8, 1.0],\n",
       "                                        &#x27;learning_rate&#x27;: [0.01, 0.05, 0.1, 0.2],\n",
       "                                        &#x27;max_depth&#x27;: [3, 4, 5, 6],\n",
       "                                        &#x27;n_estimators&#x27;: [50, 100, 150, 200],\n",
       "                                        &#x27;subsample&#x27;: [0.5, 0.8, 1.0]},\n",
       "                   random_state=42, scoring=&#x27;neg_mean_squared_error&#x27;,\n",
       "                   verbose=1)</pre><b>In a Jupyter environment, please rerun this cell to show the HTML representation or trust the notebook. <br />On GitHub, the HTML representation is unable to render, please try loading this page with nbviewer.org.</b></div><div class=\"sk-container\" hidden><div class=\"sk-item sk-dashed-wrapped\"><div class=\"sk-label-container\"><div class=\"sk-label sk-toggleable\"><input class=\"sk-toggleable__control sk-hidden--visually\" id=\"sk-estimator-id-1\" type=\"checkbox\" ><label for=\"sk-estimator-id-1\" class=\"sk-toggleable__label sk-toggleable__label-arrow\">RandomizedSearchCV</label><div class=\"sk-toggleable__content\"><pre>RandomizedSearchCV(cv=3,\n",
       "                   estimator=XGBRegressor(base_score=None, booster=None,\n",
       "                                          callbacks=None,\n",
       "                                          colsample_bylevel=None,\n",
       "                                          colsample_bynode=None,\n",
       "                                          colsample_bytree=None,\n",
       "                                          early_stopping_rounds=None,\n",
       "                                          enable_categorical=False,\n",
       "                                          eval_metric=None, feature_types=None,\n",
       "                                          gamma=None, gpu_id=None,\n",
       "                                          grow_policy=None,\n",
       "                                          importance_type=None,\n",
       "                                          interaction_constraints=None,\n",
       "                                          learning_rate=...\n",
       "                                          monotone_constraints=None,\n",
       "                                          n_estimators=100, n_jobs=None,\n",
       "                                          num_parallel_tree=None,\n",
       "                                          predictor=None, random_state=42, ...),\n",
       "                   n_iter=20, n_jobs=-1,\n",
       "                   param_distributions={&#x27;colsample_bytree&#x27;: [0.5, 0.8, 1.0],\n",
       "                                        &#x27;learning_rate&#x27;: [0.01, 0.05, 0.1, 0.2],\n",
       "                                        &#x27;max_depth&#x27;: [3, 4, 5, 6],\n",
       "                                        &#x27;n_estimators&#x27;: [50, 100, 150, 200],\n",
       "                                        &#x27;subsample&#x27;: [0.5, 0.8, 1.0]},\n",
       "                   random_state=42, scoring=&#x27;neg_mean_squared_error&#x27;,\n",
       "                   verbose=1)</pre></div></div></div><div class=\"sk-parallel\"><div class=\"sk-parallel-item\"><div class=\"sk-item\"><div class=\"sk-label-container\"><div class=\"sk-label sk-toggleable\"><input class=\"sk-toggleable__control sk-hidden--visually\" id=\"sk-estimator-id-2\" type=\"checkbox\" ><label for=\"sk-estimator-id-2\" class=\"sk-toggleable__label sk-toggleable__label-arrow\">estimator: XGBRegressor</label><div class=\"sk-toggleable__content\"><pre>XGBRegressor(base_score=None, booster=None, callbacks=None,\n",
       "             colsample_bylevel=None, colsample_bynode=None,\n",
       "             colsample_bytree=None, early_stopping_rounds=None,\n",
       "             enable_categorical=False, eval_metric=None, feature_types=None,\n",
       "             gamma=None, gpu_id=None, grow_policy=None, importance_type=None,\n",
       "             interaction_constraints=None, learning_rate=None, max_bin=None,\n",
       "             max_cat_threshold=None, max_cat_to_onehot=None,\n",
       "             max_delta_step=None, max_depth=None, max_leaves=None,\n",
       "             min_child_weight=None, missing=nan, monotone_constraints=None,\n",
       "             n_estimators=100, n_jobs=None, num_parallel_tree=None,\n",
       "             predictor=None, random_state=42, ...)</pre></div></div></div><div class=\"sk-serial\"><div class=\"sk-item\"><div class=\"sk-estimator sk-toggleable\"><input class=\"sk-toggleable__control sk-hidden--visually\" id=\"sk-estimator-id-3\" type=\"checkbox\" ><label for=\"sk-estimator-id-3\" class=\"sk-toggleable__label sk-toggleable__label-arrow\">XGBRegressor</label><div class=\"sk-toggleable__content\"><pre>XGBRegressor(base_score=None, booster=None, callbacks=None,\n",
       "             colsample_bylevel=None, colsample_bynode=None,\n",
       "             colsample_bytree=None, early_stopping_rounds=None,\n",
       "             enable_categorical=False, eval_metric=None, feature_types=None,\n",
       "             gamma=None, gpu_id=None, grow_policy=None, importance_type=None,\n",
       "             interaction_constraints=None, learning_rate=None, max_bin=None,\n",
       "             max_cat_threshold=None, max_cat_to_onehot=None,\n",
       "             max_delta_step=None, max_depth=None, max_leaves=None,\n",
       "             min_child_weight=None, missing=nan, monotone_constraints=None,\n",
       "             n_estimators=100, n_jobs=None, num_parallel_tree=None,\n",
       "             predictor=None, random_state=42, ...)</pre></div></div></div></div></div></div></div></div></div></div>"
      ],
      "text/plain": [
       "RandomizedSearchCV(cv=3,\n",
       "                   estimator=XGBRegressor(base_score=None, booster=None,\n",
       "                                          callbacks=None,\n",
       "                                          colsample_bylevel=None,\n",
       "                                          colsample_bynode=None,\n",
       "                                          colsample_bytree=None,\n",
       "                                          early_stopping_rounds=None,\n",
       "                                          enable_categorical=False,\n",
       "                                          eval_metric=None, feature_types=None,\n",
       "                                          gamma=None, gpu_id=None,\n",
       "                                          grow_policy=None,\n",
       "                                          importance_type=None,\n",
       "                                          interaction_constraints=None,\n",
       "                                          learning_rate=...\n",
       "                                          monotone_constraints=None,\n",
       "                                          n_estimators=100, n_jobs=None,\n",
       "                                          num_parallel_tree=None,\n",
       "                                          predictor=None, random_state=42, ...),\n",
       "                   n_iter=20, n_jobs=-1,\n",
       "                   param_distributions={'colsample_bytree': [0.5, 0.8, 1.0],\n",
       "                                        'learning_rate': [0.01, 0.05, 0.1, 0.2],\n",
       "                                        'max_depth': [3, 4, 5, 6],\n",
       "                                        'n_estimators': [50, 100, 150, 200],\n",
       "                                        'subsample': [0.5, 0.8, 1.0]},\n",
       "                   random_state=42, scoring='neg_mean_squared_error',\n",
       "                   verbose=1)"
      ]
     },
     "execution_count": 23,
     "metadata": {},
     "output_type": "execute_result"
    }
   ],
   "source": [
    "# Fit the RandomizedSearchCV on the training data\n",
    "random_search.fit(X_train, y_train)"
   ]
  },
  {
   "cell_type": "code",
   "execution_count": 24,
   "metadata": {},
   "outputs": [
    {
     "name": "stdout",
     "output_type": "stream",
     "text": [
      "Best hyperparameters: {'subsample': 1.0, 'n_estimators': 150, 'max_depth': 6, 'learning_rate': 0.1, 'colsample_bytree': 1.0}\n"
     ]
    }
   ],
   "source": [
    "# Get the best hyperparameters\n",
    "best_params = random_search.best_params_\n",
    "print(\"Best hyperparameters:\", best_params)"
   ]
  },
  {
   "cell_type": "code",
   "execution_count": 25,
   "metadata": {},
   "outputs": [
    {
     "data": {
      "text/html": [
       "<style>#sk-container-id-2 {color: black;background-color: white;}#sk-container-id-2 pre{padding: 0;}#sk-container-id-2 div.sk-toggleable {background-color: white;}#sk-container-id-2 label.sk-toggleable__label {cursor: pointer;display: block;width: 100%;margin-bottom: 0;padding: 0.3em;box-sizing: border-box;text-align: center;}#sk-container-id-2 label.sk-toggleable__label-arrow:before {content: \"▸\";float: left;margin-right: 0.25em;color: #696969;}#sk-container-id-2 label.sk-toggleable__label-arrow:hover:before {color: black;}#sk-container-id-2 div.sk-estimator:hover label.sk-toggleable__label-arrow:before {color: black;}#sk-container-id-2 div.sk-toggleable__content {max-height: 0;max-width: 0;overflow: hidden;text-align: left;background-color: #f0f8ff;}#sk-container-id-2 div.sk-toggleable__content pre {margin: 0.2em;color: black;border-radius: 0.25em;background-color: #f0f8ff;}#sk-container-id-2 input.sk-toggleable__control:checked~div.sk-toggleable__content {max-height: 200px;max-width: 100%;overflow: auto;}#sk-container-id-2 input.sk-toggleable__control:checked~label.sk-toggleable__label-arrow:before {content: \"▾\";}#sk-container-id-2 div.sk-estimator input.sk-toggleable__control:checked~label.sk-toggleable__label {background-color: #d4ebff;}#sk-container-id-2 div.sk-label input.sk-toggleable__control:checked~label.sk-toggleable__label {background-color: #d4ebff;}#sk-container-id-2 input.sk-hidden--visually {border: 0;clip: rect(1px 1px 1px 1px);clip: rect(1px, 1px, 1px, 1px);height: 1px;margin: -1px;overflow: hidden;padding: 0;position: absolute;width: 1px;}#sk-container-id-2 div.sk-estimator {font-family: monospace;background-color: #f0f8ff;border: 1px dotted black;border-radius: 0.25em;box-sizing: border-box;margin-bottom: 0.5em;}#sk-container-id-2 div.sk-estimator:hover {background-color: #d4ebff;}#sk-container-id-2 div.sk-parallel-item::after {content: \"\";width: 100%;border-bottom: 1px solid gray;flex-grow: 1;}#sk-container-id-2 div.sk-label:hover label.sk-toggleable__label {background-color: #d4ebff;}#sk-container-id-2 div.sk-serial::before {content: \"\";position: absolute;border-left: 1px solid gray;box-sizing: border-box;top: 0;bottom: 0;left: 50%;z-index: 0;}#sk-container-id-2 div.sk-serial {display: flex;flex-direction: column;align-items: center;background-color: white;padding-right: 0.2em;padding-left: 0.2em;position: relative;}#sk-container-id-2 div.sk-item {position: relative;z-index: 1;}#sk-container-id-2 div.sk-parallel {display: flex;align-items: stretch;justify-content: center;background-color: white;position: relative;}#sk-container-id-2 div.sk-item::before, #sk-container-id-2 div.sk-parallel-item::before {content: \"\";position: absolute;border-left: 1px solid gray;box-sizing: border-box;top: 0;bottom: 0;left: 50%;z-index: -1;}#sk-container-id-2 div.sk-parallel-item {display: flex;flex-direction: column;z-index: 1;position: relative;background-color: white;}#sk-container-id-2 div.sk-parallel-item:first-child::after {align-self: flex-end;width: 50%;}#sk-container-id-2 div.sk-parallel-item:last-child::after {align-self: flex-start;width: 50%;}#sk-container-id-2 div.sk-parallel-item:only-child::after {width: 0;}#sk-container-id-2 div.sk-dashed-wrapped {border: 1px dashed gray;margin: 0 0.4em 0.5em 0.4em;box-sizing: border-box;padding-bottom: 0.4em;background-color: white;}#sk-container-id-2 div.sk-label label {font-family: monospace;font-weight: bold;display: inline-block;line-height: 1.2em;}#sk-container-id-2 div.sk-label-container {text-align: center;}#sk-container-id-2 div.sk-container {/* jupyter's `normalize.less` sets `[hidden] { display: none; }` but bootstrap.min.css set `[hidden] { display: none !important; }` so we also need the `!important` here to be able to override the default hidden behavior on the sphinx rendered scikit-learn.org. See: https://github.com/scikit-learn/scikit-learn/issues/21755 */display: inline-block !important;position: relative;}#sk-container-id-2 div.sk-text-repr-fallback {display: none;}</style><div id=\"sk-container-id-2\" class=\"sk-top-container\"><div class=\"sk-text-repr-fallback\"><pre>XGBRegressor(base_score=None, booster=None, callbacks=None,\n",
       "             colsample_bylevel=None, colsample_bynode=None,\n",
       "             colsample_bytree=1.0, early_stopping_rounds=None,\n",
       "             enable_categorical=False, eval_metric=None, feature_types=None,\n",
       "             gamma=None, gpu_id=None, grow_policy=None, importance_type=None,\n",
       "             interaction_constraints=None, learning_rate=0.1, max_bin=None,\n",
       "             max_cat_threshold=None, max_cat_to_onehot=None,\n",
       "             max_delta_step=None, max_depth=6, max_leaves=None,\n",
       "             min_child_weight=None, missing=nan, monotone_constraints=None,\n",
       "             n_estimators=150, n_jobs=None, num_parallel_tree=None,\n",
       "             predictor=None, random_state=42, ...)</pre><b>In a Jupyter environment, please rerun this cell to show the HTML representation or trust the notebook. <br />On GitHub, the HTML representation is unable to render, please try loading this page with nbviewer.org.</b></div><div class=\"sk-container\" hidden><div class=\"sk-item\"><div class=\"sk-estimator sk-toggleable\"><input class=\"sk-toggleable__control sk-hidden--visually\" id=\"sk-estimator-id-4\" type=\"checkbox\" checked><label for=\"sk-estimator-id-4\" class=\"sk-toggleable__label sk-toggleable__label-arrow\">XGBRegressor</label><div class=\"sk-toggleable__content\"><pre>XGBRegressor(base_score=None, booster=None, callbacks=None,\n",
       "             colsample_bylevel=None, colsample_bynode=None,\n",
       "             colsample_bytree=1.0, early_stopping_rounds=None,\n",
       "             enable_categorical=False, eval_metric=None, feature_types=None,\n",
       "             gamma=None, gpu_id=None, grow_policy=None, importance_type=None,\n",
       "             interaction_constraints=None, learning_rate=0.1, max_bin=None,\n",
       "             max_cat_threshold=None, max_cat_to_onehot=None,\n",
       "             max_delta_step=None, max_depth=6, max_leaves=None,\n",
       "             min_child_weight=None, missing=nan, monotone_constraints=None,\n",
       "             n_estimators=150, n_jobs=None, num_parallel_tree=None,\n",
       "             predictor=None, random_state=42, ...)</pre></div></div></div></div></div>"
      ],
      "text/plain": [
       "XGBRegressor(base_score=None, booster=None, callbacks=None,\n",
       "             colsample_bylevel=None, colsample_bynode=None,\n",
       "             colsample_bytree=1.0, early_stopping_rounds=None,\n",
       "             enable_categorical=False, eval_metric=None, feature_types=None,\n",
       "             gamma=None, gpu_id=None, grow_policy=None, importance_type=None,\n",
       "             interaction_constraints=None, learning_rate=0.1, max_bin=None,\n",
       "             max_cat_threshold=None, max_cat_to_onehot=None,\n",
       "             max_delta_step=None, max_depth=6, max_leaves=None,\n",
       "             min_child_weight=None, missing=nan, monotone_constraints=None,\n",
       "             n_estimators=150, n_jobs=None, num_parallel_tree=None,\n",
       "             predictor=None, random_state=42, ...)"
      ]
     },
     "execution_count": 25,
     "metadata": {},
     "output_type": "execute_result"
    }
   ],
   "source": [
    "# Train the XGBoost model with the best hyperparameters\n",
    "best_xgb_reg = xgb.XGBRegressor(**best_params, objective='reg:squarederror', random_state=42)\n",
    "best_xgb_reg.fit(X_train, y_train)"
   ]
  },
  {
   "cell_type": "code",
   "execution_count": 26,
   "metadata": {},
   "outputs": [],
   "source": [
    "# Predict the demand-supply gap for the testing dataset\n",
    "y_pred = best_xgb_reg.predict(X_test)"
   ]
  },
  {
   "cell_type": "code",
   "execution_count": 27,
   "metadata": {},
   "outputs": [
    {
     "name": "stdout",
     "output_type": "stream",
     "text": [
      "Mean Squared Error: 693.6450716687801\n",
      "R-squared: 0.9234986551242398\n",
      "Mean Absolute Error: 8.10977431845886\n"
     ]
    }
   ],
   "source": [
    "# Calculate the evaluation metrics\n",
    "mse = mean_squared_error(y_test, y_pred)\n",
    "r2 = r2_score(y_test, y_pred)\n",
    "mae = mean_absolute_error(y_test, y_pred)\n",
    "\n",
    "print(\"Mean Squared Error:\", mse)\n",
    "print(\"R-squared:\", r2)\n",
    "print(\"Mean Absolute Error:\", mae)"
   ]
  },
  {
   "cell_type": "code",
   "execution_count": 28,
   "metadata": {},
   "outputs": [
    {
     "data": {
      "image/png": "[encoded data removed]",
      "text/plain": [
       "<Figure size 1000x600 with 1 Axes>"
      ]
     },
     "metadata": {},
     "output_type": "display_data"
    }
   ],
   "source": [
    "import matplotlib.pyplot as plt\n",
    "\n",
    "# Plot actual vs predicted values\n",
    "plt.figure(figsize=(10, 6))\n",
    "plt.scatter(y_test, y_pred, alpha=0.5, c='blue', label='Predicted')\n",
    "plt.scatter(y_test, y_test, alpha=0.5, c='red', label='Actual')\n",
    "plt.xlabel(\"Actual\")\n",
    "plt.ylabel(\"Predicted\")\n",
    "plt.title(\"Actual vs Predicted\")\n",
    "plt.legend()\n",
    "plt.show()\n"
   ]
  },
  {
   "cell_type": "code",
   "execution_count": 29,
   "metadata": {},
   "outputs": [],
   "source": [
    "# storing data for the next model\n",
    "test_poi_data_file_path = 'test_set/poi_data/poi_data'\n",
    "test_poi_data = read_poi_data(test_poi_data_file_path)\n",
    "\n",
    "test_cluster_map_file_path = 'test_set/cluster_map/cluster_map'\n",
    "test_cluster_map = read_space_separated_csv(test_cluster_map_file_path, cluster_map_columns)\n",
    "\n",
    "order_data_columns = ['order_id', 'passenger_id', 'start_region_hash', 'dest_region_hash', 'Time']\n",
    "test_order_data_folder_path = 'test_set/order_data/'\n",
    "test_order_data_files = [f for f in os.listdir(test_order_data_folder_path) if os.path.isfile(os.path.join(test_order_data_folder_path, f)) and not f.startswith('._')]\n",
    "test_order_data_list = [read_space_separated_csv(os.path.join(test_order_data_folder_path, file), order_data_columns, ',') for file in test_order_data_files]\n",
    "test_order_data = pd.concat(test_order_data_list)\n",
    "\n",
    "test_weather_data_folder_path = 'test_set/weather_data/'\n",
    "test_weather_data_files = [f for f in os.listdir(test_weather_data_folder_path) if os.path.isfile(os.path.join(test_weather_data_folder_path, f)) and not f.startswith('._')]\n",
    "test_weather_data_list = [read_space_separated_csv(os.path.join(test_weather_data_folder_path, file), weather_data_columns) for file in test_weather_data_files]\n",
    "test_weather_data = pd.concat(test_weather_data_list)\n",
    "\n",
    "test_poi_data['total_facilities'] = test_poi_data['poi_data'].apply(count_facilities)\n"
   ]
  },
  {
   "cell_type": "code",
   "execution_count": 30,
   "metadata": {},
   "outputs": [],
   "source": [
    "# Convert the 'Time' column to datetime format\n",
    "test_order_data['Time'] = pd.to_datetime(test_order_data['Time'])\n",
    "test_weather_data['Time'] = pd.to_datetime(test_weather_data['Time'])\n",
    "\n",
    "test_order_data['Time'] = test_order_data['Time'].dt.round('10min')\n",
    "test_weather_data['Time'] = test_weather_data['Time'].dt.round('10min')"
   ]
  },
  {
   "cell_type": "code",
   "execution_count": 31,
   "metadata": {},
   "outputs": [],
   "source": [
    "# Sort the datasets by time\n",
    "test_order_data = test_order_data.sort_values('Time')\n",
    "test_weather_data = test_weather_data.sort_values('Time')"
   ]
  },
  {
   "cell_type": "code",
   "execution_count": 32,
   "metadata": {},
   "outputs": [],
   "source": [
    "# Merge the cluster_map into the test_order_data\n",
    "test_order_data = test_order_data.merge(test_cluster_map, left_on='start_region_hash', right_on='region_hash', how='left')\n",
    "test_order_data = test_order_data.rename(columns={'region_id': 'start_region_id'}).drop('region_hash', axis=1)\n",
    "\n",
    "test_order_data = test_order_data.merge(test_cluster_map, left_on='dest_region_hash', right_on='region_hash', how='left')\n",
    "test_order_data = test_order_data.rename(columns={'region_id': 'dest_region_id'}).drop('region_hash', axis=1)\n",
    "test_order_data = test_order_data.merge(test_weather_data, on='Time', how='left')\n",
    "test_order_data = test_order_data.merge(test_poi_data, left_on='start_region_hash', right_on='region_hash', how='left')"
   ]
  },
  {
   "cell_type": "code",
   "execution_count": 33,
   "metadata": {},
   "outputs": [],
   "source": [
    "# Calculate the demand for the test dataset\n",
    "test_order_data['demand'] = 1"
   ]
  },
  {
   "cell_type": "code",
   "execution_count": 34,
   "metadata": {},
   "outputs": [],
   "source": [
    "# Aggregate data by time slot and region\n",
    "test_grouped_data = test_order_data.groupby([pd.Grouper(key='Time', freq='10min'), 'start_region_id']).agg({\n",
    "    'demand': 'sum',\n",
    "    'Weather': 'mean',\n",
    "    'temperature': 'mean',\n",
    "    'PM2.5': 'mean',\n",
    "    'total_facilities': 'sum'\n",
    "}).reset_index()"
   ]
  },
  {
   "cell_type": "code",
   "execution_count": 35,
   "metadata": {},
   "outputs": [],
   "source": [
    "# Prepare the features\n",
    "test_X = test_grouped_data.drop(['Time'], axis=1)\n",
    "test_X = test_X[['start_region_id', 'Weather', 'temperature', 'PM2.5', 'total_facilities']]"
   ]
  },
  {
   "cell_type": "code",
   "execution_count": 36,
   "metadata": {},
   "outputs": [],
   "source": [
    "# Encode the region_id column\n",
    "test_X['start_region_id'] = LabelEncoder().fit_transform(test_X['start_region_id'])"
   ]
  },
  {
   "cell_type": "code",
   "execution_count": 37,
   "metadata": {},
   "outputs": [],
   "source": [
    "# Predict the demand-supply gap for the testing dataset\n",
    "test_y_pred = best_xgb_reg.predict(test_X)\n",
    "\n",
    "test_df = test_X.copy()\n",
    "test_df['predicted_gap'] = test_y_pred"
   ]
  },
  {
   "cell_type": "code",
   "execution_count": 38,
   "metadata": {},
   "outputs": [],
   "source": [
    "import numpy as np\n",
    "from scipy.spatial import KDTree\n",
    "\n",
    "train_df.fillna(train_df.mean(), inplace=True)\n",
    "test_df.fillna(test_df.mean(), inplace=True)\n",
    "\n",
    "train_X_array = train_df.drop('predicted_gap', axis=1).to_numpy()\n",
    "test_X_array = test_df.drop('predicted_gap', axis=1).to_numpy()\n",
    "\n"
   ]
  },
  {
   "cell_type": "code",
   "execution_count": 39,
   "metadata": {},
   "outputs": [],
   "source": [
    "import numpy as np\n",
    "import pandas as pd\n",
    "\n",
    "def euclidean_distance(a, b):\n",
    "    return np.sqrt(np.sum((a - b) ** 2, axis=1))"
   ]
  },
  {
   "cell_type": "code",
   "execution_count": 40,
   "metadata": {},
   "outputs": [],
   "source": [
    "def find_similar_rows(train_df, test_df, threshold, gap_tolerance):\n",
    "    similar_rows = []\n",
    "    train_data = train_df.drop(columns='predicted_gap').values\n",
    "    test_data = test_df.drop(columns='predicted_gap').values\n",
    "\n",
    "    for test_index, test_row in enumerate(test_data):\n",
    "        distances = euclidean_distance(train_data, test_row)\n",
    "        min_distance_index = distances.argmin()\n",
    "        min_distance = distances[min_distance_index]\n",
    "\n",
    "        test_gap = test_df.loc[test_index, 'predicted_gap']\n",
    "        train_gap = train_df.loc[min_distance_index, 'predicted_gap']\n",
    "        gap_diff = abs(test_gap - train_gap)\n",
    "        if min_distance <= threshold and gap_diff <= gap_tolerance:\n",
    "            similar_rows.append({\n",
    "                'test_row_index': test_index,\n",
    "                'train_row_index': min_distance_index,\n",
    "                'test_predicted_gap': test_gap,\n",
    "                'train_predicted_gap': train_gap,\n",
    "                'euclidean_distance': min_distance\n",
    "            })\n",
    "\n",
    "    return pd.DataFrame(similar_rows)"
   ]
  },
  {
   "cell_type": "code",
   "execution_count": 41,
   "metadata": {},
   "outputs": [
    {
     "name": "stdout",
     "output_type": "stream",
     "text": [
      "      test_row_index  train_row_index  test_predicted_gap  \\\n",
      "3492            7546            88093            0.518004   \n",
      "3649            7815            88245            0.214770   \n",
      "1490            3394           162355            0.849214   \n",
      "1493            3400           162424            0.632056   \n",
      "3648            7814            88244            0.199345   \n",
      "...              ...              ...                 ...   \n",
      "748             1596           162025           10.634451   \n",
      "750             1608           162036            1.749175   \n",
      "2781            6092           123731            1.165518   \n",
      "2130            4901           133934            3.793637   \n",
      "11                29           131559            1.437764   \n",
      "\n",
      "      train_predicted_gap  euclidean_distance  \n",
      "3492                    0                 1.0  \n",
      "3649                    2                 1.0  \n",
      "1490                    1                 1.0  \n",
      "1493                    0                 1.0  \n",
      "3648                    0                 1.0  \n",
      "...                   ...                 ...  \n",
      "748                    15                 5.0  \n",
      "750                     0                 5.0  \n",
      "2781                    1                 5.0  \n",
      "2130                    1                 5.0  \n",
      "11                      0                 5.0  \n",
      "\n",
      "[4624 rows x 5 columns]\n"
     ]
    }
   ],
   "source": [
    "threshold = 5\n",
    "gap_tolerance = 5  # Adjust this value as needed\n",
    "matching_rows = find_similar_rows(train_df, test_df, threshold, gap_tolerance)\n",
    "matching_rows = matching_rows.sort_values(by=['euclidean_distance'])\n",
    "print(matching_rows)\n"
   ]
  },
  {
   "cell_type": "code",
   "execution_count": 42,
   "metadata": {},
   "outputs": [],
   "source": [
    "import pandas as pd\n",
    "import os\n",
    "\n",
    "def read_space_separated_csv(file_path, column_names, delim = '\\t'):\n",
    "    return pd.read_csv(file_path, sep=delim, names=column_names)\n",
    "\n",
    "def process_poi_data(poi_data_str):\n",
    "    poi_data_dict = {}\n",
    "    for pair in poi_data_str.split('\\t'):\n",
    "        key, value = pair.split(':')\n",
    "        poi_data_dict[key] = int(value)\n",
    "    return poi_data_dict\n",
    "\n",
    "def read_poi_data(file_path):\n",
    "    with open(file_path, 'r') as file:\n",
    "        lines = file.read().split('\\n')\n",
    "\n",
    "    data = []\n",
    "\n",
    "    for line in lines:\n",
    "        if line:\n",
    "            region_hash, poi_data_str = line.split('\\t', 1)\n",
    "            poi_data_dict = process_poi_data(poi_data_str)\n",
    "            data.append({'region_hash': region_hash, 'poi_data': poi_data_dict})\n",
    "\n",
    "    column_names = ['region_hash', 'poi_data']\n",
    "    poi_data_df = pd.DataFrame(data, columns=column_names)\n",
    "    return poi_data_df\n",
    "\n",
    "\n",
    "file_path = 'training_data/poi_data/poi_data'\n",
    "poi_data = read_poi_data(file_path)\n",
    "\n",
    "# Read the cluster_map data\n",
    "cluster_map_columns = ['region_hash', 'region_id']\n",
    "cluster_map_file_path = 'training_data/cluster_map/cluster_map'\n",
    "cluster_map = read_space_separated_csv(cluster_map_file_path, cluster_map_columns)\n",
    "\n",
    "\n",
    "\n",
    "\n",
    "# Read the order_data files\n",
    "order_data_columns = ['order_id', 'driver_id', 'passenger_id', 'start_region_hash', 'dest_region_hash', 'Price', 'Time']\n",
    "order_data_folder_path = 'training_data/order_data/'\n",
    "order_data_files = [f for f in os.listdir(order_data_folder_path) if os.path.isfile(os.path.join(order_data_folder_path, f)) and not f.startswith('._')]\n",
    "order_data_list = [read_space_separated_csv(os.path.join(order_data_folder_path, file), order_data_columns) for file in order_data_files]\n",
    "order_data = pd.concat(order_data_list)\n",
    "\n",
    "\n",
    "# Read the weather_data files\n",
    "weather_data_columns = ['Time', 'Weather', 'temperature', 'PM2.5']\n",
    "weather_data_folder_path = 'training_data/weather_data/'\n",
    "weather_data_files = [f for f in os.listdir(weather_data_folder_path) if os.path.isfile(os.path.join(weather_data_folder_path, f)) and not f.startswith('._')]\n",
    "weather_data_list = [read_space_separated_csv(os.path.join(weather_data_folder_path, file), weather_data_columns) for file in weather_data_files]\n",
    "weather_data = pd.concat(weather_data_list)\n",
    "\n",
    "poi_data['total_facilities'] = poi_data['poi_data'].apply(count_facilities)\n"
   ]
  },
  {
   "cell_type": "code",
   "execution_count": 43,
   "metadata": {},
   "outputs": [],
   "source": [
    "from sklearn.linear_model import LinearRegression\n",
    "# Convert the 'Time' column to datetime format\n",
    "order_data['Time'] = pd.to_datetime(order_data['Time'])\n",
    "weather_data['Time'] = pd.to_datetime(weather_data['Time'])\n",
    "\n",
    "order_data['Time'] = order_data['Time'].dt.round('10min')\n",
    "weather_data['Time'] = weather_data['Time'].dt.round('10min')"
   ]
  },
  {
   "cell_type": "code",
   "execution_count": 44,
   "metadata": {},
   "outputs": [],
   "source": [
    "# Sort the datasets by time\n",
    "order_data = order_data.sort_values('Time')\n",
    "weather_data = weather_data.sort_values('Time')"
   ]
  },
  {
   "cell_type": "code",
   "execution_count": 45,
   "metadata": {},
   "outputs": [],
   "source": [
    "# Merge the cluster_map into the order_data\n",
    "order_data = order_data.merge(cluster_map, left_on='start_region_hash', right_on='region_hash', how='left')\n",
    "order_data = order_data.rename(columns={'region_id': 'start_region_id'}).drop('region_hash', axis=1)\n",
    "\n",
    "order_data = order_data.merge(cluster_map, left_on='dest_region_hash', right_on='region_hash', how='left')\n",
    "order_data = order_data.rename(columns={'region_id': 'dest_region_id'}).drop('region_hash', axis=1)\n",
    "order_data = order_data.merge(weather_data, on='Time', how='left')\n",
    "order_data = order_data.merge(poi_data, left_on='start_region_hash', right_on='region_hash', how='left')"
   ]
  },
  {
   "cell_type": "code",
   "execution_count": 46,
   "metadata": {},
   "outputs": [],
   "source": [
    "# Calculate the demand and supply columns\n",
    "order_data['demand'] = 1\n",
    "order_data['supply'] = order_data['driver_id'].notnull().astype(int)"
   ]
  },
  {
   "cell_type": "code",
   "execution_count": 47,
   "metadata": {},
   "outputs": [],
   "source": [
    "# Aggregate data by time slot and region\n",
    "grouped_data = order_data.groupby([pd.Grouper(key='Time', freq='10min'), 'start_region_id']).agg({\n",
    "    'demand': 'sum',\n",
    "    'supply': 'sum',\n",
    "    'Weather': 'mean',\n",
    "    'temperature': 'mean',\n",
    "    'PM2.5': 'mean',\n",
    "    'total_facilities': 'sum'\n",
    "}).reset_index()"
   ]
  },
  {
   "cell_type": "code",
   "execution_count": 48,
   "metadata": {},
   "outputs": [
    {
     "name": "stdout",
     "output_type": "stream",
     "text": [
      "        Time  start_region_id  demand  supply  Weather  temperature  PM2.5  \\\n",
      "0 2016-01-01                1      64      60      1.0          4.0  177.0   \n",
      "1 2016-01-01                2       1       1      1.0          4.0  177.0   \n",
      "2 2016-01-01                3       2       1      1.0          4.0  177.0   \n",
      "\n",
      "   total_facilities  gap  \n",
      "0          41816064    4  \n",
      "1            343537    0  \n",
      "2             62250    1  \n"
     ]
    }
   ],
   "source": [
    "grouped_data['gap'] = grouped_data['demand'] - grouped_data['supply']\n",
    "print(grouped_data.head(3))"
   ]
  },
  {
   "cell_type": "code",
   "execution_count": 49,
   "metadata": {},
   "outputs": [],
   "source": [
    "# Prepare the features and target variable\n",
    "X = grouped_data.drop(['Time', 'gap', 'demand', 'supply'], axis=1)\n",
    "X = X[['start_region_id', 'Weather', 'temperature', 'PM2.5', 'total_facilities']]\n",
    "\n",
    "y = grouped_data['gap']"
   ]
  },
  {
   "cell_type": "code",
   "execution_count": 50,
   "metadata": {},
   "outputs": [],
   "source": [
    "# Encode the region_id column\n",
    "X['start_region_id'] = LabelEncoder().fit_transform(X['start_region_id'])\n",
    "X = X.fillna(X.mean())"
   ]
  },
  {
   "cell_type": "code",
   "execution_count": 51,
   "metadata": {},
   "outputs": [
    {
     "data": {
      "text/html": [
       "<style>#sk-container-id-3 {color: black;background-color: white;}#sk-container-id-3 pre{padding: 0;}#sk-container-id-3 div.sk-toggleable {background-color: white;}#sk-container-id-3 label.sk-toggleable__label {cursor: pointer;display: block;width: 100%;margin-bottom: 0;padding: 0.3em;box-sizing: border-box;text-align: center;}#sk-container-id-3 label.sk-toggleable__label-arrow:before {content: \"▸\";float: left;margin-right: 0.25em;color: #696969;}#sk-container-id-3 label.sk-toggleable__label-arrow:hover:before {color: black;}#sk-container-id-3 div.sk-estimator:hover label.sk-toggleable__label-arrow:before {color: black;}#sk-container-id-3 div.sk-toggleable__content {max-height: 0;max-width: 0;overflow: hidden;text-align: left;background-color: #f0f8ff;}#sk-container-id-3 div.sk-toggleable__content pre {margin: 0.2em;color: black;border-radius: 0.25em;background-color: #f0f8ff;}#sk-container-id-3 input.sk-toggleable__control:checked~div.sk-toggleable__content {max-height: 200px;max-width: 100%;overflow: auto;}#sk-container-id-3 input.sk-toggleable__control:checked~label.sk-toggleable__label-arrow:before {content: \"▾\";}#sk-container-id-3 div.sk-estimator input.sk-toggleable__control:checked~label.sk-toggleable__label {background-color: #d4ebff;}#sk-container-id-3 div.sk-label input.sk-toggleable__control:checked~label.sk-toggleable__label {background-color: #d4ebff;}#sk-container-id-3 input.sk-hidden--visually {border: 0;clip: rect(1px 1px 1px 1px);clip: rect(1px, 1px, 1px, 1px);height: 1px;margin: -1px;overflow: hidden;padding: 0;position: absolute;width: 1px;}#sk-container-id-3 div.sk-estimator {font-family: monospace;background-color: #f0f8ff;border: 1px dotted black;border-radius: 0.25em;box-sizing: border-box;margin-bottom: 0.5em;}#sk-container-id-3 div.sk-estimator:hover {background-color: #d4ebff;}#sk-container-id-3 div.sk-parallel-item::after {content: \"\";width: 100%;border-bottom: 1px solid gray;flex-grow: 1;}#sk-container-id-3 div.sk-label:hover label.sk-toggleable__label {background-color: #d4ebff;}#sk-container-id-3 div.sk-serial::before {content: \"\";position: absolute;border-left: 1px solid gray;box-sizing: border-box;top: 0;bottom: 0;left: 50%;z-index: 0;}#sk-container-id-3 div.sk-serial {display: flex;flex-direction: column;align-items: center;background-color: white;padding-right: 0.2em;padding-left: 0.2em;position: relative;}#sk-container-id-3 div.sk-item {position: relative;z-index: 1;}#sk-container-id-3 div.sk-parallel {display: flex;align-items: stretch;justify-content: center;background-color: white;position: relative;}#sk-container-id-3 div.sk-item::before, #sk-container-id-3 div.sk-parallel-item::before {content: \"\";position: absolute;border-left: 1px solid gray;box-sizing: border-box;top: 0;bottom: 0;left: 50%;z-index: -1;}#sk-container-id-3 div.sk-parallel-item {display: flex;flex-direction: column;z-index: 1;position: relative;background-color: white;}#sk-container-id-3 div.sk-parallel-item:first-child::after {align-self: flex-end;width: 50%;}#sk-container-id-3 div.sk-parallel-item:last-child::after {align-self: flex-start;width: 50%;}#sk-container-id-3 div.sk-parallel-item:only-child::after {width: 0;}#sk-container-id-3 div.sk-dashed-wrapped {border: 1px dashed gray;margin: 0 0.4em 0.5em 0.4em;box-sizing: border-box;padding-bottom: 0.4em;background-color: white;}#sk-container-id-3 div.sk-label label {font-family: monospace;font-weight: bold;display: inline-block;line-height: 1.2em;}#sk-container-id-3 div.sk-label-container {text-align: center;}#sk-container-id-3 div.sk-container {/* jupyter's `normalize.less` sets `[hidden] { display: none; }` but bootstrap.min.css set `[hidden] { display: none !important; }` so we also need the `!important` here to be able to override the default hidden behavior on the sphinx rendered scikit-learn.org. See: https://github.com/scikit-learn/scikit-learn/issues/21755 */display: inline-block !important;position: relative;}#sk-container-id-3 div.sk-text-repr-fallback {display: none;}</style><div id=\"sk-container-id-3\" class=\"sk-top-container\"><div class=\"sk-text-repr-fallback\"><pre>LinearRegression()</pre><b>In a Jupyter environment, please rerun this cell to show the HTML representation or trust the notebook. <br />On GitHub, the HTML representation is unable to render, please try loading this page with nbviewer.org.</b></div><div class=\"sk-container\" hidden><div class=\"sk-item\"><div class=\"sk-estimator sk-toggleable\"><input class=\"sk-toggleable__control sk-hidden--visually\" id=\"sk-estimator-id-5\" type=\"checkbox\" checked><label for=\"sk-estimator-id-5\" class=\"sk-toggleable__label sk-toggleable__label-arrow\">LinearRegression</label><div class=\"sk-toggleable__content\"><pre>LinearRegression()</pre></div></div></div></div></div>"
      ],
      "text/plain": [
       "LinearRegression()"
      ]
     },
     "execution_count": 51,
     "metadata": {},
     "output_type": "execute_result"
    }
   ],
   "source": [
    "# Split the data into training and testing datasets\n",
    "X_train, X_test, y_train, y_test = train_test_split(X, y, test_size=0.1, random_state=42)\n",
    "\n",
    "model = LinearRegression()\n",
    "\n",
    "model.fit(X_train, y_train)"
   ]
  },
  {
   "cell_type": "code",
   "execution_count": 52,
   "metadata": {},
   "outputs": [],
   "source": [
    "# Predict the demand-supply gap for the testing dataset\n",
    "y_pred = model.predict(X_test)"
   ]
  },
  {
   "cell_type": "code",
   "execution_count": 53,
   "metadata": {},
   "outputs": [
    {
     "name": "stdout",
     "output_type": "stream",
     "text": [
      "Mean Squared Error: 3945.145074789499\n",
      "R-squared: 0.5648943295664413\n",
      "Mean Absolute Error: 15.683522685962153\n"
     ]
    }
   ],
   "source": [
    "# Calculate the mean absolute error\n",
    "linear_mse = mean_squared_error(y_test, y_pred)\n",
    "linear_r2 = r2_score(y_test, y_pred)\n",
    "linear_mae = mean_absolute_error(y_test, y_pred)\n",
    "\n",
    "print(\"Mean Squared Error:\", linear_mse)\n",
    "print(\"R-squared:\", linear_r2)\n",
    "print(\"Mean Absolute Error:\", linear_mae)"
   ]
  },
  {
   "cell_type": "code",
   "execution_count": 54,
   "metadata": {},
   "outputs": [
    {
     "data": {
      "image/png": "[encoded data removed]",
      "text/plain": [
       "<Figure size 1000x600 with 1 Axes>"
      ]
     },
     "metadata": {},
     "output_type": "display_data"
    }
   ],
   "source": [
    "plt.figure(figsize=(10, 6))\n",
    "plt.scatter(y_test, y_pred, alpha=0.5, c='blue', label='Predicted')\n",
    "plt.scatter(y_test, y_test, alpha=0.5, c='red', label='Actual')\n",
    "plt.xlabel(\"Actual\")\n",
    "plt.ylabel(\"Predicted\")\n",
    "plt.title(\"Actual vs Predicted\")\n",
    "plt.legend()\n",
    "plt.show()\n"
   ]
  },
  {
   "cell_type": "code",
   "execution_count": 57,
   "metadata": {},
   "outputs": [
    {
     "data": {
      "image/png": "[encoded data removed]",
      "text/plain": [
       "<Figure size 1500x600 with 3 Axes>"
      ]
     },
     "metadata": {},
     "output_type": "display_data"
    }
   ],
   "source": [
    "# Bar chart comparison for errors\n",
    "labels = ['XGBoost', 'Linear Regression']\n",
    "mse_values = [mse, linear_mse]\n",
    "r2_values = [r2, linear_r2]\n",
    "mae_values = [mae, linear_mae]\n",
    "\n",
    "x = np.arange(len(labels))\n",
    "width = 0.35\n",
    "\n",
    "def create_bar_chart(ax, data, ylabel, title):\n",
    "    rects = ax.bar(x, data, width)\n",
    "    ax.set_ylabel(ylabel)\n",
    "    ax.set_title(title)\n",
    "    ax.set_xticks(x)\n",
    "    ax.set_xticklabels(labels)\n",
    "\n",
    "\n",
    "fig, (ax1, ax2, ax3) = plt.subplots(nrows=1, ncols=3, figsize=(15, 6))\n",
    "create_bar_chart(ax1, mse_values, 'MSE', 'Comparison of Mean Squared Error')\n",
    "create_bar_chart(ax2, r2_values, 'R-squared', 'Comparison of R-squared')\n",
    "create_bar_chart(ax3, mae_values, 'MAE', 'Comparison of Mean Absolute Error')\n",
    "\n",
    "plt.show()"
   ]
  },
  {
   "attachments": {},
   "cell_type": "markdown",
   "metadata": {},
   "source": [
    "## "
   ]
  }
 ],
 "metadata": {
  "kernelspec": {
   "display_name": "ana",
   "language": "python",
   "name": "python3"
  },
  "language_info": {
   "codemirror_mode": {
    "name": "ipython",
    "version": 3
   },
   "file_extension": ".py",
   "mimetype": "text/x-python",
   "name": "python",
   "nbconvert_exporter": "python",
   "pygments_lexer": "ipython3",
   "version": "3.10.9"
  },
  "orig_nbformat": 4
 },
 "nbformat": 4,
 "nbformat_minor": 2
}
